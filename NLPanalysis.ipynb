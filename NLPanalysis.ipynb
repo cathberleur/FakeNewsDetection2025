{
 "cells": [
  {
   "cell_type": "code",
   "execution_count": 1,
   "id": "e4df7af0",
   "metadata": {},
   "outputs": [
    {
     "name": "stderr",
     "output_type": "stream",
     "text": [
      "/home/cathu/.local/lib/python3.10/site-packages/matplotlib/projections/__init__.py:63: UserWarning: Unable to import Axes3D. This may be due to multiple versions of Matplotlib being installed (e.g. as a system package and as a pip package). As a result, the 3D projection is not available.\n",
      "  warnings.warn(\"Unable to import Axes3D. This may be due to multiple versions of \"\n"
     ]
    }
   ],
   "source": [
    "import pandas as pd\n",
    "import matplotlib.pyplot as plt\n",
    "import seaborn as sns\n",
    "import numpy as np\n",
    "\n",
    "import re\n",
    "import nltk\n",
    "from nltk.corpus import stopwords\n",
    "from nltk.stem import WordNetLemmatizer\n",
    "\n",
    "import torch\n",
    "from sklearn.feature_extraction.text import TfidfVectorizer\n",
    "from sklearn.model_selection import train_test_split\n",
    "from sklearn.linear_model import LogisticRegression\n",
    "from sklearn.naive_bayes import MultinomialNB\n",
    "from sklearn.svm import LinearSVC\n",
    "from sklearn.metrics import classification_report, confusion_matrix\n",
    "from sklearn.metrics import accuracy_score, precision_recall_fscore_support"
   ]
  },
  {
   "cell_type": "code",
   "execution_count": 2,
   "id": "6c5cc03d",
   "metadata": {},
   "outputs": [],
   "source": [
    "from torch.utils.data import DataLoader, Dataset\n",
    "from torch.optim import AdamW\n",
    "from transformers import BertTokenizerFast, BertForSequenceClassification\n",
    "from sklearn.metrics import classification_report"
   ]
  },
  {
   "cell_type": "code",
   "execution_count": 3,
   "id": "12af19d3",
   "metadata": {},
   "outputs": [],
   "source": [
    "import os\n",
    "# os.environ[\"CUDA_VISIBLE_DEVICES\"] = \"\"  # Force l'entraînement sur CPU si pas de GPU dispo\n",
    "\n",
    "import torch\n",
    "from transformers import BertTokenizerFast, BertForSequenceClassification, Trainer, TrainingArguments"
   ]
  },
  {
   "cell_type": "markdown",
   "id": "ec19b476",
   "metadata": {},
   "source": [
    "## Etape 1 : Chargement et exploration du dataset ISOT"
   ]
  },
  {
   "cell_type": "code",
   "execution_count": 7,
   "id": "d0c5db77",
   "metadata": {},
   "outputs": [
    {
     "name": "stdout",
     "output_type": "stream",
     "text": [
      "Aperçu des données :\n",
      "                                                   title  \\\n",
      "22216  Ben Stein Calls Out 9th Circuit Court: Committ...   \n",
      "27917  Trump drops Steve Bannon from National Securit...   \n",
      "25007  Puerto Rico expects U.S. to lift Jones Act shi...   \n",
      "1377    OOPS: Trump Just Accidentally Confirmed He Le...   \n",
      "32476  Donald Trump heads for Scotland to reopen a go...   \n",
      "\n",
      "                                                    text       subject  \\\n",
      "22216  21st Century Wire says Ben Stein, reputable pr...       US_News   \n",
      "27917  WASHINGTON (Reuters) - U.S. President Donald T...  politicsNews   \n",
      "25007  (Reuters) - Puerto Rico Governor Ricardo Rosse...  politicsNews   \n",
      "1377   On Monday, Donald Trump once again embarrassed...          News   \n",
      "32476  GLASGOW, Scotland (Reuters) - Most U.S. presid...  politicsNews   \n",
      "\n",
      "                      date  label  \n",
      "22216    February 13, 2017      0  \n",
      "27917       April 5, 2017       1  \n",
      "25007  September 27, 2017       1  \n",
      "1377          May 22, 2017      0  \n",
      "32476       June 24, 2016       1  \n",
      "\n",
      "Nombre total d'articles : 44898\n",
      "Nombre de fake news : 23481\n",
      "Nombre de true news : 21417\n",
      "\n",
      "Statistiques sur la longueur des textes :\n",
      "count    44898.000000\n",
      "mean       405.282284\n",
      "std        351.265595\n",
      "min          0.000000\n",
      "25%        203.000000\n",
      "50%        362.000000\n",
      "75%        513.000000\n",
      "max       8135.000000\n",
      "Name: text_length, dtype: float64\n"
     ]
    },
    {
     "data": {
      "image/png": "[encoded data removed]",
      "text/plain": [
       "<Figure size 432x288 with 1 Axes>"
      ]
     },
     "metadata": {
      "needs_background": "light"
     },
     "output_type": "display_data"
    },
    {
     "data": {
      "image/png": "[encoded data removed]",
      "text/plain": [
       "<Figure size 720x360 with 1 Axes>"
      ]
     },
     "metadata": {
      "needs_background": "light"
     },
     "output_type": "display_data"
    }
   ],
   "source": [
    "fake_df = pd.read_csv(\"Fake.csv\")\n",
    "true_df = pd.read_csv(\"True.csv\")\n",
    "\n",
    "# Ajout de la colonne 'label'\n",
    "fake_df[\"label\"] = 0\n",
    "true_df[\"label\"] = 1\n",
    "\n",
    "df = pd.concat([fake_df, true_df], ignore_index=True)\n",
    "\n",
    "print(\"Aperçu des données :\")\n",
    "print(df.sample(5, random_state=42))\n",
    "\n",
    "print(\"\\nNombre total d'articles :\", len(df))\n",
    "print(\"Nombre de fake news :\", sum(df[\"label\"] == 0))\n",
    "print(\"Nombre de true news :\", sum(df[\"label\"] == 1))\n",
    "\n",
    "df[\"text_length\"] = df[\"text\"].apply(lambda x: len(str(x).split()))\n",
    "print(\"\\nStatistiques sur la longueur des textes :\")\n",
    "print(df[\"text_length\"].describe())\n",
    "\n",
    "# Distribution visuelle des classes\n",
    "sns.countplot(x=\"label\", data=df)\n",
    "plt.title(\"Répartition des classes (0 = fake, 1 = true)\")\n",
    "plt.show()\n",
    "\n",
    "# Distribution des longueurs de texte\n",
    "plt.figure(figsize=(10, 5))\n",
    "sns.histplot(df[\"text_length\"], bins=50, kde=True)\n",
    "plt.title(\"Distribution de la longueur des articles (en mots)\")\n",
    "plt.xlabel(\"Nombre de mots\")\n",
    "plt.ylabel(\"Nombre d’articles\")\n",
    "plt.show()\n"
   ]
  },
  {
   "cell_type": "markdown",
   "id": "73d4f6b2",
   "metadata": {},
   "source": [
    "## Etape 2 : Prétraitement"
   ]
  },
  {
   "cell_type": "code",
   "execution_count": 8,
   "id": "1c813205",
   "metadata": {},
   "outputs": [
    {
     "name": "stderr",
     "output_type": "stream",
     "text": [
      "[nltk_data] Downloading package stopwords to /home/cathu/nltk_data...\n",
      "[nltk_data]   Package stopwords is already up-to-date!\n",
      "[nltk_data] Downloading package wordnet to /home/cathu/nltk_data...\n",
      "[nltk_data]   Package wordnet is already up-to-date!\n"
     ]
    }
   ],
   "source": [
    "nltk.download(\"stopwords\")\n",
    "nltk.download(\"wordnet\")\n",
    "\n",
    "stop_words = set(stopwords.words(\"english\"))\n",
    "lemmatizer = WordNetLemmatizer()\n",
    "\n",
    "def simple_preprocess(text):\n",
    "    text = text.lower()\n",
    "    text = re.sub(r\"http\\S+|www\\S+|https\\S+\", '', text)\n",
    "    text = re.sub(r'\\d+', '', text)\n",
    "    text = re.sub(r'[^\\w\\s]', '', text)\n",
    "    tokens = text.split()  # Remplace word_tokenize()\n",
    "    tokens = [lemmatizer.lemmatize(w) for w in tokens if w not in stop_words]\n",
    "    return \" \".join(tokens)\n",
    "\n",
    "df[\"clean_text\"] = df[\"text\"].astype(str).apply(simple_preprocess)\n"
   ]
  },
  {
   "cell_type": "code",
   "execution_count": 9,
   "id": "2601451c",
   "metadata": {},
   "outputs": [],
   "source": [
    "output_path = \"ISOT_cleaned.csv\"\n",
    "df.to_csv(output_path, index=False)"
   ]
  },
  {
   "cell_type": "markdown",
   "id": "90ffc31a",
   "metadata": {},
   "source": [
    "## Étape 3 : Modèle de base (Baseline)"
   ]
  },
  {
   "cell_type": "code",
   "execution_count": 10,
   "id": "04a0e374",
   "metadata": {},
   "outputs": [],
   "source": [
    "df_cleaned = pd.read_csv(\"ISOT_cleaned.csv\")\n",
    "df_cleaned = df_cleaned.dropna(subset=[\"clean_text\"])\n",
    "df_cleaned[\"clean_text\"] = df_cleaned[\"clean_text\"].astype(str)\n",
    "\n",
    "X = df_cleaned[\"clean_text\"]\n",
    "y = df_cleaned[\"label\"]\n",
    "\n",
    "tfidf_vectorizer = TfidfVectorizer(max_features=5000)\n",
    "X_tfidf = tfidf_vectorizer.fit_transform(X)"
   ]
  },
  {
   "cell_type": "code",
   "execution_count": 11,
   "id": "9aac6cfa",
   "metadata": {},
   "outputs": [
    {
     "name": "stderr",
     "output_type": "stream",
     "text": [
      "/home/cathu/.local/lib/python3.10/site-packages/sklearn/svm/_classes.py:32: FutureWarning: The default value of `dual` will change from `True` to `'auto'` in 1.5. Set the value of `dual` explicitly to suppress the warning.\n",
      "  warnings.warn(\n"
     ]
    },
    {
     "data": {
      "image/png": "[encoded data removed]",
      "text/plain": [
       "<Figure size 432x288 with 2 Axes>"
      ]
     },
     "metadata": {
      "needs_background": "light"
     },
     "output_type": "display_data"
    },
    {
     "data": {
      "application/vnd.microsoft.datawrangler.viewer.v0+json": {
       "columns": [
        {
         "name": "index",
         "rawType": "object",
         "type": "string"
        },
        {
         "name": "0",
         "rawType": "object",
         "type": "unknown"
        },
        {
         "name": "1",
         "rawType": "object",
         "type": "unknown"
        },
        {
         "name": "accuracy",
         "rawType": "object",
         "type": "unknown"
        },
        {
         "name": "macro avg",
         "rawType": "object",
         "type": "unknown"
        },
        {
         "name": "weighted avg",
         "rawType": "object",
         "type": "unknown"
        }
       ],
       "conversionMethod": "pd.DataFrame",
       "ref": "645fb8ab-119a-45d1-b702-dbfc13d1b4cf",
       "rows": [
        [
         "Logistic Regression",
         "{'precision': 0.9881552972143014, 'recall': 0.9872890642121411, 'f1-score': 0.987721990791493, 'support': 4563.0}",
         "{'precision': 0.9864422627395979, 'recall': 0.9873654656059897, 'f1-score': 0.9869036482694106, 'support': 4274.0}",
         "0.9873260156161593",
         "{'precision': 0.9872987799769497, 'recall': 0.9873272649090654, 'f1-score': 0.9873128195304518, 'support': 8837.0}",
         "{'precision': 0.9873267910080229, 'recall': 0.9873260156161593, 'f1-score': 0.9873262008243797, 'support': 8837.0}"
        ],
        [
         "Naive Bayes",
         "{'precision': 0.9290210549164315, 'recall': 0.937979399517861, 'f1-score': 0.9334787350054526, 'support': 4563.0}",
         "{'precision': 0.933096926713948, 'recall': 0.9234908750584933, 'f1-score': 0.92826904985889, 'support': 4274.0}",
         "0.9309720493380106",
         "{'precision': 0.9310589908151897, 'recall': 0.9307351372881771, 'f1-score': 0.9308738924321713, 'support': 8837.0}",
         "{'precision': 0.930992343369819, 'recall': 0.9309720493380106, 'f1-score': 0.9309590796567587, 'support': 8837.0}"
        ],
        [
         "Linear SVM",
         "{'precision': 0.9945211483673022, 'recall': 0.9945211483673022, 'f1-score': 0.9945211483673022, 'support': 4563.0}",
         "{'precision': 0.9941506785212916, 'recall': 0.9941506785212916, 'f1-score': 0.9941506785212916, 'support': 4274.0}",
         "0.994341971257214",
         "{'precision': 0.9943359134442968, 'recall': 0.9943359134442968, 'f1-score': 0.9943359134442968, 'support': 8837.0}",
         "{'precision': 0.994341971257214, 'recall': 0.994341971257214, 'f1-score': 0.994341971257214, 'support': 8837.0}"
        ]
       ],
       "shape": {
        "columns": 5,
        "rows": 3
       }
      },
      "text/html": [
       "<div>\n",
       "<style scoped>\n",
       "    .dataframe tbody tr th:only-of-type {\n",
       "        vertical-align: middle;\n",
       "    }\n",
       "\n",
       "    .dataframe tbody tr th {\n",
       "        vertical-align: top;\n",
       "    }\n",
       "\n",
       "    .dataframe thead th {\n",
       "        text-align: right;\n",
       "    }\n",
       "</style>\n",
       "<table border=\"1\" class=\"dataframe\">\n",
       "  <thead>\n",
       "    <tr style=\"text-align: right;\">\n",
       "      <th></th>\n",
       "      <th>0</th>\n",
       "      <th>1</th>\n",
       "      <th>accuracy</th>\n",
       "      <th>macro avg</th>\n",
       "      <th>weighted avg</th>\n",
       "    </tr>\n",
       "  </thead>\n",
       "  <tbody>\n",
       "    <tr>\n",
       "      <th>Logistic Regression</th>\n",
       "      <td>{'precision': 0.9881552972143014, 'recall': 0....</td>\n",
       "      <td>{'precision': 0.9864422627395979, 'recall': 0....</td>\n",
       "      <td>0.987326</td>\n",
       "      <td>{'precision': 0.9872987799769497, 'recall': 0....</td>\n",
       "      <td>{'precision': 0.9873267910080229, 'recall': 0....</td>\n",
       "    </tr>\n",
       "    <tr>\n",
       "      <th>Naive Bayes</th>\n",
       "      <td>{'precision': 0.9290210549164315, 'recall': 0....</td>\n",
       "      <td>{'precision': 0.933096926713948, 'recall': 0.9...</td>\n",
       "      <td>0.930972</td>\n",
       "      <td>{'precision': 0.9310589908151897, 'recall': 0....</td>\n",
       "      <td>{'precision': 0.930992343369819, 'recall': 0.9...</td>\n",
       "    </tr>\n",
       "    <tr>\n",
       "      <th>Linear SVM</th>\n",
       "      <td>{'precision': 0.9945211483673022, 'recall': 0....</td>\n",
       "      <td>{'precision': 0.9941506785212916, 'recall': 0....</td>\n",
       "      <td>0.994342</td>\n",
       "      <td>{'precision': 0.9943359134442968, 'recall': 0....</td>\n",
       "      <td>{'precision': 0.994341971257214, 'recall': 0.9...</td>\n",
       "    </tr>\n",
       "  </tbody>\n",
       "</table>\n",
       "</div>"
      ],
      "text/plain": [
       "                                                                     0  \\\n",
       "Logistic Regression  {'precision': 0.9881552972143014, 'recall': 0....   \n",
       "Naive Bayes          {'precision': 0.9290210549164315, 'recall': 0....   \n",
       "Linear SVM           {'precision': 0.9945211483673022, 'recall': 0....   \n",
       "\n",
       "                                                                     1  \\\n",
       "Logistic Regression  {'precision': 0.9864422627395979, 'recall': 0....   \n",
       "Naive Bayes          {'precision': 0.933096926713948, 'recall': 0.9...   \n",
       "Linear SVM           {'precision': 0.9941506785212916, 'recall': 0....   \n",
       "\n",
       "                     accuracy  \\\n",
       "Logistic Regression  0.987326   \n",
       "Naive Bayes          0.930972   \n",
       "Linear SVM           0.994342   \n",
       "\n",
       "                                                             macro avg  \\\n",
       "Logistic Regression  {'precision': 0.9872987799769497, 'recall': 0....   \n",
       "Naive Bayes          {'precision': 0.9310589908151897, 'recall': 0....   \n",
       "Linear SVM           {'precision': 0.9943359134442968, 'recall': 0....   \n",
       "\n",
       "                                                          weighted avg  \n",
       "Logistic Regression  {'precision': 0.9873267910080229, 'recall': 0....  \n",
       "Naive Bayes          {'precision': 0.930992343369819, 'recall': 0.9...  \n",
       "Linear SVM           {'precision': 0.994341971257214, 'recall': 0.9...  "
      ]
     },
     "execution_count": 11,
     "metadata": {},
     "output_type": "execute_result"
    }
   ],
   "source": [
    "X_train, X_test, y_train, y_test = train_test_split(X_tfidf, y, test_size=0.2, random_state=42)\n",
    "\n",
    "models = {\n",
    "    \"Logistic Regression\": LogisticRegression(max_iter=1000),\n",
    "    \"Naive Bayes\": MultinomialNB(),\n",
    "    \"Linear SVM\": LinearSVC()\n",
    "}\n",
    "\n",
    "reports = {}\n",
    "\n",
    "for name, model in models.items():\n",
    "    model.fit(X_train, y_train)\n",
    "    y_pred = model.predict(X_test)\n",
    "    reports[name] = classification_report(y_test, y_pred, output_dict=True)\n",
    "\n",
    "#Matrice de confusion\n",
    "chosen_model = models[\"Logistic Regression\"]\n",
    "y_pred = chosen_model.predict(X_test)\n",
    "cm = confusion_matrix(y_test, y_pred)\n",
    "\n",
    "plt.figure(figsize=(6, 4))\n",
    "sns.heatmap(cm, annot=True, fmt='d', cmap='Blues', xticklabels=[\"Fake\", \"True\"], yticklabels=[\"Fake\", \"True\"])\n",
    "plt.title(\"Matrice de confusion - Logistic Regression\")\n",
    "plt.xlabel(\"Prédit\")\n",
    "plt.ylabel(\"Réel\")\n",
    "plt.tight_layout()\n",
    "plt.show()\n",
    "\n",
    "report_df = pd.DataFrame(reports).T\n",
    "\n",
    "report_df.round(3)\n"
   ]
  },
  {
   "cell_type": "markdown",
   "id": "345bff1b",
   "metadata": {},
   "source": [
    "|           | Prédit FAKE | Prédit TRUE |\n",
    "| --------- | ----------- | ----------- |\n",
    "| Réel FAKE | **4505**    | 58          |\n",
    "| Réel TRUE | 54          | **4220**    |\n"
   ]
  },
  {
   "cell_type": "code",
   "execution_count": 22,
   "id": "c58b1160",
   "metadata": {},
   "outputs": [
    {
     "data": {
      "text/plain": [
       "1.267398438384067"
      ]
     },
     "execution_count": 22,
     "metadata": {},
     "output_type": "execute_result"
    }
   ],
   "source": [
    "((58+54)/(58+54+4505+4220))*100"
   ]
  },
  {
   "cell_type": "markdown",
   "id": "49ceaf04",
   "metadata": {},
   "source": [
    "La matrice de confusion indique que le modèle de régression logistique obtient des performances remarquables avec une matrice de confusion montrant un équilibre quasi parfait entre vraies et fausses prédictions. Il commet moins de 1,3 % d’erreurs de classification, ce qui en fait une solide baseline pour évaluer les modèles de type transformer."
   ]
  },
  {
   "cell_type": "code",
   "execution_count": 12,
   "id": "9f4e97f8",
   "metadata": {},
   "outputs": [],
   "source": [
    "report_df.to_csv(\"report_classic.csv\")"
   ]
  },
  {
   "cell_type": "markdown",
   "id": "9704c3c3",
   "metadata": {},
   "source": [
    "## Étape 4 : Modèle avancé (BERT)"
   ]
  },
  {
   "cell_type": "code",
   "execution_count": null,
   "id": "3a8e3de1",
   "metadata": {},
   "outputs": [],
   "source": [
    "df = pd.read_csv(\"ISOT_cleaned.csv\")\n",
    "df = df[[\"clean_text\", \"label\"]].dropna()\n",
    "train_texts, val_texts, train_labels, val_labels = train_test_split(\n",
    "    df[\"clean_text\"].tolist(), df[\"label\"].tolist(), test_size=0.2, random_state=42, stratify=df[\"label\"]\n",
    ")\n",
    "\n",
    "tokenizer = BertTokenizerFast.from_pretrained('bert-base-uncased')\n",
    "\n",
    "class FakeNewsDataset(Dataset):\n",
    "    def __init__(self, texts, labels):\n",
    "        self.encodings = tokenizer(texts, truncation=True, padding=True, max_length=512)\n",
    "        self.labels = labels\n",
    "\n",
    "    def __len__(self):\n",
    "        return len(self.labels)\n",
    "\n",
    "    def __getitem__(self, idx):\n",
    "        return {\n",
    "            'input_ids': torch.tensor(self.encodings['input_ids'][idx]),\n",
    "            'attention_mask': torch.tensor(self.encodings['attention_mask'][idx]),\n",
    "            'labels': torch.tensor(self.labels[idx])\n",
    "        }\n",
    "\n",
    "train_dataset = FakeNewsDataset(train_texts, train_labels)\n",
    "val_dataset = FakeNewsDataset(val_texts, val_labels)\n",
    "\n",
    "train_loader = DataLoader(train_dataset, batch_size=8, shuffle=True)\n",
    "val_loader = DataLoader(val_dataset, batch_size=8)"
   ]
  },
  {
   "cell_type": "code",
   "execution_count": null,
   "id": "a3674f8e",
   "metadata": {},
   "outputs": [],
   "source": [
    "\n",
    "# Initialization\n",
    "device = torch.device(\"cuda\" if torch.cuda.is_available() else \"cpu\")\n",
    "model = BertForSequenceClassification.from_pretrained(\"bert-base-uncased\", num_labels=2)\n",
    "model.to(device)\n",
    "\n",
    "# Optimizer without transformers\n",
    "optimizer = AdamW(model.parameters(), lr=2e-5)\n",
    "\n",
    "# simple training\n",
    "model.train()\n",
    "for epoch in range(2):  # nb epoch\n",
    "    print(f\"\\nEpoch {epoch+1}\")\n",
    "    for batch in train_loader:\n",
    "        optimizer.zero_grad()\n",
    "        input_ids = batch[\"input_ids\"].to(device)\n",
    "        attention_mask = batch[\"attention_mask\"].to(device)\n",
    "        labels = batch[\"labels\"].to(device)\n",
    "\n",
    "        outputs = model(input_ids=input_ids, attention_mask=attention_mask, labels=labels)\n",
    "        loss = outputs.loss\n",
    "        loss.backward()\n",
    "        optimizer.step()\n",
    "        print(f\"Batch loss: {loss.item():.4f}\")"
   ]
  },
  {
   "cell_type": "code",
   "execution_count": null,
   "id": "c41d47ca",
   "metadata": {},
   "outputs": [],
   "source": [
    "model.eval()\n",
    "preds, true_labels = [], []"
   ]
  },
  {
   "cell_type": "code",
   "execution_count": null,
   "id": "6d83fc81",
   "metadata": {},
   "outputs": [],
   "source": [
    "with torch.no_grad():\n",
    "    for batch in val_loader:\n",
    "        input_ids = batch[\"input_ids\"].to(device)\n",
    "        attention_mask = batch[\"attention_mask\"].to(device)\n",
    "        labels = batch[\"labels\"].to(device)\n",
    "\n",
    "        outputs = model(input_ids=input_ids, attention_mask=attention_mask)\n",
    "        logits = outputs.logits\n",
    "        preds.extend(torch.argmax(logits, axis=1).cpu().numpy())\n",
    "        true_labels.extend(labels.cpu().numpy())\n",
    "\n",
    "print(classification_report(true_labels, preds, target_names=[\"Fake\", \"True\"]))"
   ]
  }
 ],
 "metadata": {
  "kernelspec": {
   "display_name": "Python 3",
   "language": "python",
   "name": "python3"
  },
  "language_info": {
   "codemirror_mode": {
    "name": "ipython",
    "version": 3
   },
   "file_extension": ".py",
   "mimetype": "text/x-python",
   "name": "python",
   "nbconvert_exporter": "python",
   "pygments_lexer": "ipython3",
   "version": "3.10.12"
  }
 },
 "nbformat": 4,
 "nbformat_minor": 5
}
